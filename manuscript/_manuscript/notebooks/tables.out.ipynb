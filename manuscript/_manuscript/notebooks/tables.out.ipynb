{
 "cells": [
  {
   "cell_type": "markdown",
   "metadata": {},
   "source": [
    "# Tables"
   ],
   "id": "47cd2dc4-1129-4a26-bb06-58ab60a5dbcc"
  },
  {
   "cell_type": "code",
   "execution_count": null,
   "metadata": {},
   "outputs": [],
   "source": [
    "library(data.table)\n",
    "hpo <- HPOExplorer::get_hpo()\n"
   ],
   "id": "bf31f2f5-1093-4161-9223-45d74647371c"
  },
  {
   "cell_type": "markdown",
   "metadata": {},
   "source": [
    "``` r\n",
    "\n",
    "data.frame(res_summ$tmerged[,-c(\"ctd\")], \n",
    "             row.names = res_summ$tmerged$ctd,\n",
    "             check.names = FALSE) |>\n",
    "  t()|>\n",
    "  knitr::kable()\n",
    "```"
   ],
   "id": "17cb796b-4962-463e-8e38-3111701243d5"
  },
  {
   "cell_type": "code",
   "execution_count": null,
   "metadata": {},
   "outputs": [
    {
     "output_type": "stream",
     "name": "stderr",
     "text": [
      "Gathering data from GenCC."
     ]
    },
    {
     "output_type": "stream",
     "name": "stderr",
     "text": [
      "Importing cached file."
     ]
    },
    {
     "output_type": "stream",
     "name": "stderr",
     "text": [
      "Evidence scores for: \n",
      " - 10390 diseases \n",
      " - 5142 genes"
     ]
    },
    {
     "output_type": "stream",
     "name": "stderr",
     "text": [
      "+ Version: 2024-04-13"
     ]
    },
    {
     "output_type": "display_data",
     "metadata": {},
     "data": {
      "text/markdown": [
       "  classification_curie   classification_title              encoding\n",
       "  ---------------------- ------------------------------- ----------\n",
       "  GENCC:100001           Definitive                               6\n",
       "  GENCC:100002           Strong                                   5\n",
       "  GENCC:100003           Moderate                                 4\n",
       "  GENCC:100009           Supportive                               3\n",
       "  GENCC:100004           Limited                                  2\n",
       "  GENCC:100005           Disputed Evidence                        1\n",
       "  GENCC:100008           No Known Disease Relationship            0\n",
       "  GENCC:100006           Refuted Evidence                         0\n"
      ]
     }
    }
   ],
   "source": [
    "\n",
    "gencc <- KGExplorer::get_gencc(agg_by=NULL)\n"
   ],
   "id": "43c3722b-c652-42ef-8023-5cafa89ab314"
  },
  {
   "cell_type": "code",
   "execution_count": null,
   "metadata": {},
   "outputs": [
    {
     "output_type": "stream",
     "name": "stderr",
     "text": [
      "cardiocyte"
     ]
    },
    {
     "output_type": "stream",
     "name": "stderr",
     "text": [
      "Translating ontology terms to ids."
     ]
    },
    {
     "output_type": "stream",
     "name": "stderr",
     "text": [
      "Loading cached ontology: /Users/bms20/Library/Caches/org.R-project.R/R/KGExplorer/cl.rds"
     ]
    },
    {
     "output_type": "stream",
     "name": "stderr",
     "text": [
      "endocrine cell"
     ]
    },
    {
     "output_type": "stream",
     "name": "stderr",
     "text": [
      "Translating ontology terms to ids."
     ]
    },
    {
     "output_type": "stream",
     "name": "stderr",
     "text": [
      "photoreceptor cellretinal cell"
     ]
    },
    {
     "output_type": "stream",
     "name": "stderr",
     "text": [
      "Translating ontology terms to ids."
     ]
    },
    {
     "output_type": "stream",
     "name": "stderr",
     "text": [
      "leukocyte"
     ]
    },
    {
     "output_type": "stream",
     "name": "stderr",
     "text": [
      "Translating ontology terms to ids."
     ]
    },
    {
     "output_type": "stream",
     "name": "stderr",
     "text": [
      "cell of skeletal musclechondrocyte"
     ]
    },
    {
     "output_type": "stream",
     "name": "stderr",
     "text": [
      "Translating ontology terms to ids."
     ]
    },
    {
     "output_type": "stream",
     "name": "stderr",
     "text": [
      "neural cell"
     ]
    },
    {
     "output_type": "stream",
     "name": "stderr",
     "text": [
      "Translating ontology terms to ids."
     ]
    },
    {
     "output_type": "stream",
     "name": "stderr",
     "text": [
      "respiratory epithelial cellepithelial cell of lung"
     ]
    },
    {
     "output_type": "stream",
     "name": "stderr",
     "text": [
      "Translating ontology terms to ids."
     ]
    },
    {
     "output_type": "stream",
     "name": "stderr",
     "text": [
      "Translating ontology terms to ids.\n",
      "Translating ontology terms to ids.\n",
      "Translating ontology terms to ids.\n",
      "Translating ontology terms to ids.\n",
      "Translating ontology terms to ids.\n",
      "Translating ontology terms to ids.\n",
      "Translating ontology terms to ids."
     ]
    },
    {
     "output_type": "display_data",
     "metadata": {},
     "data": {
      "text/markdown": [
       "  ------------------------------------------------------------------------------------------\n",
       "  hpo_branch         hpo_branch_id   cl_branch               cl_name            cl_id\n",
       "  ------------------ --------------- ----------------------- ------------------ ------------\n",
       "  Abnormality of the HP:0001626      cardiocyte              cardiac muscle     CL:0000746\n",
       "  cardiovascular                                             cell               \n",
       "  system                                                                        \n",
       "\n",
       "  Abnormality of the HP:0001626      cardiocyte              regular atrial     CL:0002129\n",
       "  cardiovascular                                             cardiac myocyte    \n",
       "  system                                                                        \n",
       "\n",
       "  Abnormality of the HP:0001626      cardiocyte              endocardial cell   CL:0002350\n",
       "  cardiovascular                                                                \n",
       "  system                                                                        \n",
       "\n",
       "  Abnormality of the HP:0001626      cardiocyte              epicardial         CL:1000309\n",
       "  cardiovascular                                             adipocyte          \n",
       "  system                                                                        \n",
       "\n",
       "  Abnormality of the HP:0001626      cardiocyte              ventricular        CL:2000046\n",
       "  cardiovascular                                             cardiac muscle     \n",
       "  system                                                     cell               \n",
       "\n",
       "  Abnormality of the HP:0000818      endocrine cell          endocrine cell     CL:0000163\n",
       "  endocrine system                                                              \n",
       "\n",
       "  Abnormality of the HP:0000818      endocrine cell          neuroendocrine     CL:0000165\n",
       "  endocrine system                                           cell               \n",
       "\n",
       "  Abnormality of the HP:0000818      endocrine cell          chromaffin cell    CL:0000166\n",
       "  endocrine system                                                              \n",
       "\n",
       "  Abnormality of the HP:0000478      photoreceptor cell /    photoreceptor cell CL:0000210\n",
       "  eye                                retinal cell                               \n",
       "\n",
       "  Abnormality of the HP:0000478      photoreceptor cell /    amacrine cell      CL:0000561\n",
       "  eye                                retinal cell                               \n",
       "\n",
       "  Abnormality of the HP:0000478      photoreceptor cell /    Mueller cell       CL:0000636\n",
       "  eye                                retinal cell                               \n",
       "\n",
       "  Abnormality of the HP:0000478      photoreceptor cell /    retinal pigment    CL:0002586\n",
       "  eye                                retinal cell            epithelial cell    \n",
       "\n",
       "  Abnormality of the HP:0002715      leukocyte               T cell             CL:0000084\n",
       "  immune system                                                                 \n",
       "\n",
       "  Abnormality of the HP:0002715      leukocyte               mature neutrophil  CL:0000096\n",
       "  immune system                                                                 \n",
       "\n",
       "  Abnormality of the HP:0002715      leukocyte               mast cell          CL:0000097\n",
       "  immune system                                                                 \n",
       "\n",
       "  Abnormality of the HP:0002715      leukocyte               microglial cell    CL:0000129\n",
       "  immune system                                                                 \n",
       "\n",
       "  Abnormality of the HP:0002715      leukocyte               professional       CL:0000145\n",
       "  immune system                                              antigen presenting \n",
       "                                                             cell               \n",
       "\n",
       "  Abnormality of the HP:0002715      leukocyte               macrophage         CL:0000235\n",
       "  immune system                                                                 \n",
       "\n",
       "  Abnormality of the HP:0002715      leukocyte               B cell             CL:0000236\n",
       "  immune system                                                                 \n",
       "\n",
       "  Abnormality of the HP:0002715      leukocyte               dendritic cell     CL:0000451\n",
       "  immune system                                                                 \n",
       "\n",
       "  Abnormality of the HP:0002715      leukocyte               monocyte           CL:0000576\n",
       "  immune system                                                                 \n",
       "\n",
       "  Abnormality of the HP:0002715      leukocyte               plasma cell        CL:0000786\n",
       "  immune system                                                                 \n",
       "\n",
       "  Abnormality of the HP:0002715      leukocyte               alternatively      CL:0000890\n",
       "  immune system                                              activated          \n",
       "                                                             macrophage         \n",
       "\n",
       "  Abnormality of the HP:0002715      leukocyte               thymocyte          CL:0000893\n",
       "  immune system                                                                 \n",
       "\n",
       "  Abnormality of the HP:0002715      leukocyte               innate lymphoid    CL:0001065\n",
       "  immune system                                              cell               \n",
       "\n",
       "  Abnormality of the HP:0033127      cell of skeletal muscle chondrocyte        CL:0000138\n",
       "  musculoskeletal                    / chondrocyte                              \n",
       "  system                                                                        \n",
       "\n",
       "  Abnormality of the HP:0033127      cell of skeletal muscle cell of skeletal   CL:0000188\n",
       "  musculoskeletal                    / chondrocyte           muscle             \n",
       "  system                                                                        \n",
       "\n",
       "  Abnormality of the HP:0033127      cell of skeletal muscle skeletal muscle    CL:0000594\n",
       "  musculoskeletal                    / chondrocyte           satellite cell     \n",
       "  system                                                                        \n",
       "\n",
       "  Abnormality of the HP:0000707      neural cell             bipolar neuron     CL:0000103\n",
       "  nervous system                                                                \n",
       "\n",
       "  Abnormality of the HP:0000707      neural cell             granule cell       CL:0000120\n",
       "  nervous system                                                                \n",
       "\n",
       "  Abnormality of the HP:0000707      neural cell             Purkinje cell      CL:0000121\n",
       "  nervous system                                                                \n",
       "\n",
       "  Abnormality of the HP:0000707      neural cell             glial cell         CL:0000125\n",
       "  nervous system                                                                \n",
       "\n",
       "  Abnormality of the HP:0000707      neural cell             astrocyte          CL:0000127\n",
       "  nervous system                                                                \n",
       "\n",
       "  Abnormality of the HP:0000707      neural cell             oligodendrocyte    CL:0000128\n",
       "  nervous system                                                                \n",
       "\n",
       "  Abnormality of the HP:0000707      neural cell             microglial cell    CL:0000129\n",
       "  nervous system                                                                \n",
       "\n",
       "  Abnormality of the HP:0000707      neural cell             neuroendocrine     CL:0000165\n",
       "  nervous system                                             cell               \n",
       "\n",
       "  Abnormality of the HP:0000707      neural cell             chromaffin cell    CL:0000166\n",
       "  nervous system                                                                \n",
       "\n",
       "  Abnormality of the HP:0000707      neural cell             photoreceptor cell CL:0000210\n",
       "  nervous system                                                                \n",
       "\n",
       "  Abnormality of the HP:0000707      neural cell             inhibitory         CL:0000498\n",
       "  nervous system                                             interneuron        \n",
       "\n",
       "  Abnormality of the HP:0000707      neural cell             neuron             CL:0000540\n",
       "  nervous system                                                                \n",
       "\n",
       "  Abnormality of the HP:0000707      neural cell             neuronal brush     CL:0000555\n",
       "  nervous system                                             cell               \n",
       "\n",
       "  Abnormality of the HP:0000707      neural cell             amacrine cell      CL:0000561\n",
       "  nervous system                                                                \n",
       "\n",
       "  Abnormality of the HP:0000707      neural cell             GABAergic neuron   CL:0000617\n",
       "  nervous system                                                                \n",
       "\n",
       "  Abnormality of the HP:0000707      neural cell             Mueller cell       CL:0000636\n",
       "  nervous system                                                                \n",
       "\n",
       "  Abnormality of the HP:0000707      neural cell             glutamatergic      CL:0000679\n",
       "  nervous system                                             neuron             \n",
       "\n",
       "  Abnormality of the HP:0000707      neural cell             retinal ganglion   CL:0000740\n",
       "  nervous system                                             cell               \n",
       "\n",
       "  Abnormality of the HP:0000707      neural cell             retina horizontal  CL:0000745\n",
       "  nervous system                                             cell               \n",
       "\n",
       "  Abnormality of the HP:0000707      neural cell             Schwann cell       CL:0002573\n",
       "  nervous system                                                                \n",
       "\n",
       "  Abnormality of the HP:0000707      neural cell             retinal pigment    CL:0002586\n",
       "  nervous system                                             epithelial cell    \n",
       "\n",
       "  Abnormality of the HP:0000707      neural cell             visceromotor       CL:0005025\n",
       "  nervous system                                             neuron             \n",
       "\n",
       "  Abnormality of the HP:0000707      neural cell             sympathetic neuron CL:0011103\n",
       "  nervous system                                                                \n",
       "\n",
       "  Abnormality of the HP:0002086      respiratory epithelial  type II pneumocyte CL:0002063\n",
       "  respiratory system                 cell / epithelial cell                     \n",
       "                                     of lung                                    \n",
       "\n",
       "  Abnormality of the HP:0002086      respiratory epithelial  epithelial cell of CL:0002632\n",
       "  respiratory system                 cell / epithelial cell  lower respiratory  \n",
       "                                     of lung                 tract              \n",
       "  ------------------------------------------------------------------------------------------\n"
      ]
     }
    }
   ],
   "source": [
    "\n",
    "target_branches <- MSTExplorer:::get_target_branches()\n",
    "target_celltypes <- MSTExplorer:::get_target_celltypes(target_branches=target_branches)\n"
   ],
   "id": "f1a0203b-c821-40fb-820f-250e4c057da8"
  },
  {
   "cell_type": "code",
   "execution_count": null,
   "metadata": {},
   "outputs": [
    {
     "output_type": "stream",
     "name": "stderr",
     "text": [
      "Age of death"
     ]
    },
    {
     "output_type": "stream",
     "name": "stderr",
     "text": [
      "Translating ontology terms to ids."
     ]
    },
    {
     "output_type": "stream",
     "name": "stderr",
     "text": [
      "Adding HPO names."
     ]
    },
    {
     "output_type": "stream",
     "name": "stderr",
     "text": [
      "Translating ontology terms to names."
     ]
    },
    {
     "output_type": "display_data",
     "metadata": {},
     "data": {
      "text/markdown": [
       "  hpo_id       hpo_name                     encoding\n",
       "  ------------ -------------------------- ----------\n",
       "  HP:0003826   Stillbirth                          1\n",
       "  HP:0005268   Miscarriage                         1\n",
       "  HP:0034241   Prenatal death                      1\n",
       "  HP:0003811   Neonatal death                      2\n",
       "  HP:0001522   Death in infancy                    3\n",
       "  HP:0003819   Death in childhood                  4\n",
       "  HP:0011421   Death in adolescence                5\n",
       "  HP:0100613   Death in early adulthood            6\n",
       "  HP:0033763   Death in adulthood                  7\n",
       "  HP:0033764   Death in middle age                 7\n",
       "  HP:0033765   Death in late adulthood             8\n"
      ]
     }
    }
   ],
   "source": [
    "hpo_deaths <- KGExplorer::get_ontology_descendants(ont = hpo,\n",
    "                                                   include_self = FALSE,\n",
    "                                                   terms = \"Age of death\")[[1]]\n"
   ],
   "id": "c50c6f22-fb16-4bd0-844d-0eb647020fde"
  }
 ],
 "nbformat": 4,
 "nbformat_minor": 5,
 "metadata": {}
}
